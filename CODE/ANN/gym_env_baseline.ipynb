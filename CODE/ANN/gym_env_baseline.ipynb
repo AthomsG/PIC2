{
 "cells": [
  {
   "attachments": {},
   "cell_type": "markdown",
   "id": "929d49f8",
   "metadata": {},
   "source": [
    "Useful tutorial found [here](https://www.youtube.com/watch?v=YLa_KkehvGw)"
   ]
  },
  {
   "attachments": {},
   "cell_type": "markdown",
   "id": "e039eebb",
   "metadata": {},
   "source": [
    "# 0. Install Dependencies"
   ]
  },
  {
   "cell_type": "code",
   "execution_count": 2,
   "id": "c07dc6b2",
   "metadata": {},
   "outputs": [],
   "source": [
    "import random\n",
    "import gym\n",
    "import numpy as np"
   ]
  },
  {
   "attachments": {},
   "cell_type": "markdown",
   "id": "bf0a1089",
   "metadata": {},
   "source": [
    "# 1. Start Environment & Set Baseline"
   ]
  },
  {
   "cell_type": "code",
   "execution_count": 6,
   "id": "3b709bb6",
   "metadata": {},
   "outputs": [],
   "source": [
    "env = gym.make(\"SpaceInvaders-v4\", \n",
    "               render_mode=\"rgb_array\", \n",
    "               new_step_api=True)"
   ]
  },
  {
   "attachments": {},
   "cell_type": "markdown",
   "id": "210e51d3",
   "metadata": {},
   "source": [
    "## Baseline - Random Policy"
   ]
  },
  {
   "cell_type": "code",
   "execution_count": 37,
   "id": "7adccf34",
   "metadata": {},
   "outputs": [
    {
     "name": "stdout",
     "output_type": "stream",
     "text": [
      "Episode 10, average score: 180.0\n",
      "Episode 20, average score: 151.57894736842104\n",
      "Episode 30, average score: 173.44827586206895\n",
      "Episode 40, average score: 164.2307692307692\n",
      "Episode 50, average score: 171.73469387755097\n",
      "Episode 60, average score: 158.1355932203389\n",
      "Episode 70, average score: 163.0434782608695\n",
      "Episode 80, average score: 162.2151898734177\n",
      "Episode 90, average score: 160.84269662921346\n",
      "Episode 100, average score: 155.20202020202015\n"
     ]
    }
   ],
   "source": [
    "episodes = 100\n",
    "avg = 0\n",
    "\n",
    "for episode in range(episodes):\n",
    "    state = env.reset()\n",
    "    done = False\n",
    "    score = False\n",
    "    \n",
    "    while not done:\n",
    "        action = int(random.choice(np.linspace(0, 5, 6))) # sample action from uniform\n",
    "        next_state, reward, terminated, truncated , info = env.step(action) # take action\n",
    "        # compute metrics\n",
    "        score += reward\n",
    "        done = terminated or truncated\n",
    "        avg += (score-avg)/(episode+1)\n",
    "        # render for inspection (set render_mode='human')\n",
    "        env.render()\n",
    "    if not (episode+1)%10:\n",
    "        print(f\"Episode {episode+1}, average score: {avg}\")\n",
    "    \n",
    "env.close() # close environment when finished"
   ]
  }
 ],
 "metadata": {
  "kernelspec": {
   "display_name": "Python 3 (ipykernel)",
   "language": "python",
   "name": "python3"
  },
  "language_info": {
   "codemirror_mode": {
    "name": "ipython",
    "version": 3
   },
   "file_extension": ".py",
   "mimetype": "text/x-python",
   "name": "python",
   "nbconvert_exporter": "python",
   "pygments_lexer": "ipython3",
   "version": "3.10.11"
  }
 },
 "nbformat": 4,
 "nbformat_minor": 5
}
